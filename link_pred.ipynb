{
 "cells": [
  {
   "cell_type": "code",
   "execution_count": 2,
   "metadata": {},
   "outputs": [],
   "source": [
    "from sklearn.model_selection import train_test_split\n",
    "import networkx as nx\n",
    "import pandas as pd\n",
    "import numpy as np\n",
    "import random\n",
    "%matplotlib notebook"
   ]
  },
  {
   "cell_type": "markdown",
   "metadata": {},
   "source": [
    "# Loading the csv file containing the network"
   ]
  },
  {
   "cell_type": "code",
   "execution_count": 3,
   "metadata": {},
   "outputs": [],
   "source": [
    "csvfile = open('graphnodes.csv', 'r')\n",
    "next(csvfile, None)  # skip the first line in the graphnodes.csv file  \n",
    "Graph = nx.Graph()  # create networkx graph object\n",
    "G = nx.parse_edgelist(csvfile, delimiter=',', create_using=Graph)"
   ]
  },
  {
   "cell_type": "markdown",
   "metadata": {},
   "source": [
    "# Calculating the scores of each non-connected edge"
   ]
  },
  {
   "cell_type": "markdown",
   "metadata": {},
   "source": [
    "## Common Neighbor Index"
   ]
  },
  {
   "cell_type": "code",
   "execution_count": 4,
   "metadata": {},
   "outputs": [],
   "source": [
    "def common_neighbor(G):\n",
    "    comm_neigh_scores = {}\n",
    "    \n",
    "    edges = np.array(G.edges())\n",
    "    train_set, test_set = train_test_split(edges, test_size=0.3, shuffle=False)  # split the nodes into train test (70%) and test set (30%)\n",
    "    non_conn_edges = np.array(list(nx.non_edges(G)))  # non-connected edges in array form\n",
    "    \n",
    "    # prediction set (Non-connected edges + Test set)\n",
    "    pred_set = np.concatenate((non_conn_edges, test_set))  # joining set of non-connected edges to the training set for prediction\n",
    "    \n",
    "    for u,v in pred_set:                             # u and v are any two non-connected nodes\n",
    "        u_neighbors = set(G.neighbors(u))                   # finding the neighbors of u\n",
    "        v_neighbors = set(G.neighbors(v))                   # finding the neighbors of v\n",
    "        score_uv = len(u_neighbors & v_neighbors)           # length of the set containing the intersections of neighbors\n",
    "        comm_neigh_scores[(u,v)] = score_uv  # adds the node and its corresponding score in the comm_neigh_scores dictionary\n",
    "        \n",
    "    return comm_neigh_scores"
   ]
  },
  {
   "cell_type": "markdown",
   "metadata": {},
   "source": [
    "## Katz Index"
   ]
  },
  {
   "cell_type": "code",
   "execution_count": 5,
   "metadata": {},
   "outputs": [],
   "source": [
    "def katz(G):\n",
    "    katz_scores = {}\n",
    "    \n",
    "    \"\"\"Calculating the beta value. The beta value is chosen such that it is less than the \n",
    "    reciprocal of the maximum eigenvalue of the adjacency matrix of the network.\n",
    "    This is done to ensure convergence of the katz algorithm.\"\"\"\n",
    "    \n",
    "    adj_matrix = nx.to_numpy_matrix(G)  # generates the adjacency matrix of the network\n",
    "    eig_vals = np.linalg.eigvals(adj_matrix)  # the eigenvalues of the adjacency matrix of the network\n",
    "    beta_ceil = 1 / max(eig_vals)  #ceiling value for beta\n",
    "    beta = random.uniform(0, beta_ceil)\n",
    "    \n",
    "    edges = np.array(G.edges())  # all connected edges of the network\n",
    "    train_set, test_set = train_test_split(edges, test_size=0.3, shuffle=False)  # split the nodes into train test (70%) and test set (30%)\n",
    "    non_conn_edges = np.array(list(nx.non_edges(G)))  # non-connected edges in array form\n",
    "    \n",
    "    # prediction set (Non-connected edges + Test set)\n",
    "    pred_set = np.concatenate((non_conn_edges, test_set))  # joining set of non-connected edges to the training set for prediction\n",
    "    \n",
    "    def path_length(n):\n",
    "        all_paths = nx.all_simple_paths(G, u, v)\n",
    "        return [path for path in all_paths if len(path) == n]\n",
    "        \n",
    "    for u,v in pred_set:\n",
    "        # bypassing error of finding the max of an empty list\n",
    "        try:  \n",
    "            # longest path length of paths connecting u and v\n",
    "            max_length = max([len(path) for path in nx.all_simple_paths(G, u, v)]) \n",
    "        except ValueError as e:\n",
    "            print('Sorry', e)\n",
    "            continue\n",
    "\n",
    "        \"\"\"\" counts path lengths of length l and stores them in a path_length_counts\n",
    "        such that index 1 holds the count of paths of length 1\n",
    "        and index 2 holds the count of paths of length 2, in that order...\"\"\"\n",
    "        \n",
    "        path_length_counts = [len(path_length(l)) for l in range(1, max_length+1)]\n",
    "        np_path_length_counts = np.array(path_length_counts)  #converts np_path_length_counts to numpy array\n",
    "        beta_powers = [beta ** power for power in range(1, max_length+1)] # list of beta value raised to powers 1,2,..,max_length\n",
    "        np_beta = np.array(beta_powers) # converts array of beta in previous line to numpy array to facilitate vectorization\n",
    "    \n",
    "        score_uv = sum(np_beta * np_path_length_counts) # the katz score for nodes u,v\n",
    "        katz_scores[(u,v)] = score_uv  # adds the node and its corresponding score in the katz_scores dictionary\n",
    "    \n",
    "    return katz_scores"
   ]
  },
  {
   "cell_type": "markdown",
   "metadata": {},
   "source": [
    "# Calculating the precision of the link prediction indices using the Area Under the receiver Characteristic curve (AUC) method."
   ]
  },
  {
   "cell_type": "code",
   "execution_count": 7,
   "metadata": {},
   "outputs": [],
   "source": [
    "def auc(G):  # index_type is either common_neighbor, katz, or cn_katz\n",
    "    \n",
    "    index_type = input(\"Please enter the type of index (you may use commnon_neighbor, katz, or cn_katz: )\")\n",
    "    acceptable_index_types = ['common_neighbor', 'katz', 'cn_katz']\n",
    "    \n",
    "    if index_type not in acceptable_index_types:\n",
    "        return(print('\\nSorry, you did not enter the right name.\\n\\nUse either common_neighbor, katz, or cn_katz'))\n",
    "    \n",
    "    edges = np.array(G.edges())\n",
    "    train_set, test_set = train_test_split(edges, test_size=0.3, shuffle=False)  # split the nodes into train test (70%) and test set (30%)\n",
    "    train_set_tuple_entries = list(map(tuple, train_set))  # converts train_set to list with tuple entries\n",
    "    test_set_tuple_entries = list(map(tuple, test_set))  # converts test_set to list with tuple entries\n",
    "    \n",
    "    # prediction set (Non-connected edges + Test set)\n",
    "    non_conn_edges = np.array(list(nx.non_edges(G)))  # non-connected edges in array form\n",
    "    non_conn_edges_tuple_entries = list(map(tuple, non_conn_edges))\n",
    "    \n",
    "    n = len(test_set) * len(non_conn_edges)  # n is the number of comparisons\n",
    "    n1 = 0  # n1 is the number of times the missing links (nodes in test_set) have higher score than the non-existent links (nodes on pred_test)\n",
    "    n2 = 0  # n2 is the number of times the missing links (nodes in test_set) have the same score as the non-existent links (nodes on pred_test)\n",
    "\n",
    "    for i in range(n):\n",
    "        if index_type == 'common_neighbor':\n",
    "            for test_node in test_set_tuple_entries:\n",
    "                for non_conn_node in non_conn_edges_tuple_entries:\n",
    "                    if common_neighbor(G)[test_node] > common_neighbor(G)[non_conn_node]:\n",
    "                        n1 += 1\n",
    "                    elif common_neighbor(G)[test_node] == common_neighbor(G)[non_conn_node]:\n",
    "                        n2 += 1\n",
    "\n",
    "        elif index_type == 'katz':\n",
    "            for test_node in test_set_tuple_entries:\n",
    "                for non_conn_node in non_conn_edges_tuple_entries:\n",
    "                    if katz(G)[test_node] > katz(G)[non_conn_node]:\n",
    "                        n1 += 1\n",
    "                    elif katz(G)[test_node] == katz(G)[non_conn_node]:\n",
    "                        n2 += 1\n",
    "\n",
    "        else:\n",
    "            for test_node in test_set_tuple_entries:\n",
    "                for non_conn_node in non_conn_edges_tuple_entries:\n",
    "                    if cn_katz(G)[test_node] > cn_katz(G)[non_conn_node]:\n",
    "                        n1 += 1\n",
    "                    elif cn_katz(G)[test_node] == cn_katz(G)[non_conn_node]:\n",
    "                        n2 += 1\n",
    "    \n",
    "    auc = (n1 + 0.5*n2) / float(n)  # the AUC value\n",
    "    return auc"
   ]
  },
  {
   "cell_type": "markdown",
   "metadata": {},
   "source": [
    "# Running the algorithms"
   ]
  },
  {
   "cell_type": "markdown",
   "metadata": {},
   "source": [
    "## Common Neighbor"
   ]
  },
  {
   "cell_type": "code",
   "execution_count": null,
   "metadata": {},
   "outputs": [],
   "source": [
    "common_neighbor(G)"
   ]
  },
  {
   "cell_type": "markdown",
   "metadata": {},
   "source": [
    "## Katz"
   ]
  },
  {
   "cell_type": "code",
   "execution_count": null,
   "metadata": {},
   "outputs": [],
   "source": [
    "katz(G)"
   ]
  },
  {
   "cell_type": "markdown",
   "metadata": {},
   "source": [
    "## AUC"
   ]
  },
  {
   "cell_type": "code",
   "execution_count": null,
   "metadata": {},
   "outputs": [],
   "source": [
    "auc(G)"
   ]
  },
  {
   "cell_type": "markdown",
   "metadata": {},
   "source": [
    "### A plot of the graph"
   ]
  },
  {
   "cell_type": "code",
   "execution_count": null,
   "metadata": {},
   "outputs": [],
   "source": [
    "# nx.draw_networkx(G, with_labels = True, node_size = 100)"
   ]
  }
 ],
 "metadata": {
  "kernelspec": {
   "display_name": "Python 3",
   "language": "python",
   "name": "python3"
  },
  "language_info": {
   "codemirror_mode": {
    "name": "ipython",
    "version": 3
   },
   "file_extension": ".py",
   "mimetype": "text/x-python",
   "name": "python",
   "nbconvert_exporter": "python",
   "pygments_lexer": "ipython3",
   "version": "3.7.0"
  }
 },
 "nbformat": 4,
 "nbformat_minor": 2
}
